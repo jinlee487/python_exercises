{
 "cells": [
  {
   "cell_type": "code",
   "execution_count": 6,
   "metadata": {},
   "outputs": [],
   "source": [
    "# 두 점 사이의 거리 구하기"
   ]
  },
  {
   "cell_type": "code",
   "execution_count": 2,
   "metadata": {},
   "outputs": [
    {
     "name": "stdout",
     "output_type": "stream",
     "text": [
      "p1: 30 20\n",
      "p2: 60 50\n"
     ]
    }
   ],
   "source": [
    "# 클래스로 점 구현하기\n",
    "class Point2D:\n",
    "    def __init__(self, x, y):\n",
    "        self.x = x\n",
    "        self.y = y\n",
    " \n",
    "p1 = Point2D(x=30, y=20)    # 점1\n",
    "p2 = Point2D(x=60, y=50)    # 점2\n",
    " \n",
    "print('p1: {} {}'.format(p1.x, p1.y))    # 30 20\n",
    "print('p2: {} {}'.format(p2.x, p2.y))    # 60 50"
   ]
  },
  {
   "cell_type": "code",
   "execution_count": null,
   "metadata": {},
   "outputs": [],
   "source": [
    "# 그럼 √(루트)는 어떻게 구현해야 할까요? 이때는 math 모듈의 sqrt 함수를 사용하면 편리합니다. sqrt는 제곱근을 뜻하는 square root에서 따왔습니다.\n",
    "\n",
    "# math.sqrt(값)\n",
    "# n  제곱근을 반환, 값이 음수이면 에러 발생\n",
    "\n",
    "# 이제 sqrt 함수까지 사용해서 p1과 p2의 거리를 구해보겠습니다."
   ]
  },
  {
   "cell_type": "code",
   "execution_count": 3,
   "metadata": {},
   "outputs": [
    {
     "name": "stdout",
     "output_type": "stream",
     "text": [
      "42.42640687119285\n"
     ]
    }
   ],
   "source": [
    "import math\n",
    " \n",
    "class Point2D:\n",
    "    def __init__(self, x, y):\n",
    "        self.x = x\n",
    "        self.y = y\n",
    " \n",
    "p1 = Point2D(x=30, y=20)    # 점1\n",
    "p2 = Point2D(x=60, y=50)    # 점2\n",
    " \n",
    "a = p2.x - p1.x    # 선 a의 길이\n",
    "b = p2.y - p1.y    # 선 b의 길이\n",
    " \n",
    "c = math.sqrt((a * a) + (b * b))    # (a * a) + (b * b)의 제곱근을 구함\n",
    "# c = math.sqrt((a ** 2) + (b ** 2))\n",
    "# c = math.sqrt(math.pow(a, 2) + math.pow(b, 2))\n",
    "\n",
    "print(c)    # 42.42640687119285"
   ]
  },
  {
   "cell_type": "code",
   "execution_count": null,
   "metadata": {},
   "outputs": [],
   "source": [
    "# 참고 | 절댓값 함수\n",
    "# 내장 함수 abs 또는 math 모듈의 fabs 함수를 사용하면 양수 또는 음수를 절댓값(absolute value)으로 만들 수 있습니다.\n",
    "\n",
    "# abs(값)\n",
    "\n",
    "# 정수는 절댓값을 정수로 반환, 실수는 절댓값을 실수로 반환\n",
    "\n",
    "# math.fabs(값)\n",
    "\n",
    "# 절댓값을 실수로 반환"
   ]
  },
  {
   "cell_type": "code",
   "execution_count": null,
   "metadata": {},
   "outputs": [],
   "source": [
    "# 참고 | namedtuple 사용하기\n",
    "# 파이썬에서는 각 요소에 이름을 지정해 줄 수 있는 튜플인 namedtuple을 제공합니다( collections 모듈). namedtuple은 자료형 이름과 요소의 이름을 지정하면 클래스를 생성해줍니다. 여기서 자료형 이름은 문자열, 요소의 이름은 문자열 리스트로 넣어줍니다.\n",
    "\n",
    "# 클래스 = collections.namedtuple('자료형이름', ['요소이름1', '요소이름2'])\n",
    "\n",
    "# namedtuple로 생성한 클래스는 값을 넣어서 인스턴스를 만들 수 있으며 인스턴스.요소이름 또는 인스턴스[인덱스] 형식으로 요소에 접근할 수 있습니다.\n",
    "\n",
    "# 인스턴스 = 클래스(값1, 값2)\n",
    "\n",
    "# 인스턴스 = 클래스(요소이름1=값1, 요소이름2=값2)\n",
    "\n",
    "# 인스턴스.요소이름1\n",
    "\n",
    "# 인스턴스[인덱스]\n",
    "\n",
    "# 다음은 namedtuple을 사용하여 점을 표현한 뒤 두 점의 거리를 구합니다."
   ]
  },
  {
   "cell_type": "code",
   "execution_count": 4,
   "metadata": {},
   "outputs": [
    {
     "name": "stdout",
     "output_type": "stream",
     "text": [
      "42.42640687119285\n"
     ]
    }
   ],
   "source": [
    "import math\n",
    "import collections\n",
    " \n",
    "Point2D = collections.namedtuple('Point2D', ['x', 'y'])    # namedtuple로 점 표현\n",
    " \n",
    "p1 = Point2D(x=30, y=20)    # 점1\n",
    "p2 = Point2D(x=60, y=50)    # 점2\n",
    " \n",
    "a = p1.x - p2.x    # 선 a의 길이\n",
    "b = p1.y - p2.y    # 선 b의 길이\n",
    " \n",
    "c = math.sqrt((a * a) + (b * b))\n",
    "print(c)    # 42.42640687119285"
   ]
  },
  {
   "cell_type": "code",
   "execution_count": null,
   "metadata": {},
   "outputs": [],
   "source": [
    "# 사각형의 넓이 구하기"
   ]
  },
  {
   "cell_type": "code",
   "execution_count": 5,
   "metadata": {},
   "outputs": [
    {
     "name": "stdout",
     "output_type": "stream",
     "text": [
      "200\n"
     ]
    }
   ],
   "source": [
    "class Rectangle:\n",
    "    def __init__(self, x1, y1, x2, y2):\n",
    "        self.x1 = x1\n",
    "        self.y1 = y1\n",
    "        self.x2 = x2\n",
    "        self.y2 = y2\n",
    " \n",
    "rect = Rectangle(x1=20, y1=20, x2=40, y2=30)\n",
    " \n",
    "width = abs(rect.x2 - rect.x1)\n",
    "height = abs(rect.y2 - rect.y1)\n",
    "area = width * height                       \n",
    "print(area)"
   ]
  },
  {
   "cell_type": "code",
   "execution_count": null,
   "metadata": {},
   "outputs": [],
   "source": [
    "# 클래스"
   ]
  },
  {
   "cell_type": "code",
   "execution_count": null,
   "metadata": {},
   "outputs": [],
   "source": []
  },
  {
   "cell_type": "code",
   "execution_count": null,
   "metadata": {},
   "outputs": [],
   "source": []
  },
  {
   "cell_type": "code",
   "execution_count": null,
   "metadata": {},
   "outputs": [],
   "source": []
  },
  {
   "cell_type": "code",
   "execution_count": null,
   "metadata": {},
   "outputs": [],
   "source": []
  },
  {
   "cell_type": "code",
   "execution_count": null,
   "metadata": {},
   "outputs": [],
   "source": []
  },
  {
   "cell_type": "code",
   "execution_count": null,
   "metadata": {},
   "outputs": [],
   "source": []
  },
  {
   "cell_type": "code",
   "execution_count": null,
   "metadata": {},
   "outputs": [],
   "source": []
  },
  {
   "cell_type": "code",
   "execution_count": null,
   "metadata": {},
   "outputs": [],
   "source": []
  },
  {
   "cell_type": "code",
   "execution_count": null,
   "metadata": {},
   "outputs": [],
   "source": []
  },
  {
   "cell_type": "code",
   "execution_count": null,
   "metadata": {},
   "outputs": [],
   "source": []
  },
  {
   "cell_type": "code",
   "execution_count": null,
   "metadata": {},
   "outputs": [],
   "source": []
  },
  {
   "cell_type": "code",
   "execution_count": null,
   "metadata": {},
   "outputs": [],
   "source": []
  },
  {
   "cell_type": "code",
   "execution_count": null,
   "metadata": {},
   "outputs": [],
   "source": []
  }
 ],
 "metadata": {
  "kernelspec": {
   "display_name": "Python 3",
   "language": "python",
   "name": "python3"
  },
  "language_info": {
   "codemirror_mode": {
    "name": "ipython",
    "version": 3
   },
   "file_extension": ".py",
   "mimetype": "text/x-python",
   "name": "python",
   "nbconvert_exporter": "python",
   "pygments_lexer": "ipython3",
   "version": "3.8.5"
  }
 },
 "nbformat": 4,
 "nbformat_minor": 4
}
