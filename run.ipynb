{
 "cells": [
  {
   "cell_type": "code",
   "execution_count": 1,
   "metadata": {},
   "outputs": [],
   "source": [
    "# 표준 입력으로 2차원 리스트의 가로(col)와 세로(row)가 입력되고 그 다음 줄부터 리스트의 요소로 들어갈 문자가 입력됩니다. 이때 2차원 리스트 안에서 *는 지뢰이고 .은 지뢰가 아닙니다. 지뢰가 아닌 요소에는 인접한 지뢰의 개수를 출력하는 프로그램을 만드세요(input에서 안내 문자열은 출력하지 않아야 합니다).\n",
    "\n",
    "# 여러 줄을 입력 받으려면 다음과 같이 for 반복문에서 input을 호출한 뒤 append로 각 줄을 추가하면 됩니다(list 안에 문자열을 넣으면 문자열이 문자 리스트로 변환됩니다).\n",
    "\n",
    "# matrix = []\n",
    "# for i in range(row):\n",
    "#     matrix.append(list(input()))\n",
    "# 이 문제는 지금까지 심사문제 중에서 가장 어렵습니다. 처음 풀어보는 경우 대략 두 시간은 걸립니다. 시간을 두고 천천히 고민해서 풀어보세요. 지금까지 학습한 내용을 모두 동원해야 풀 수 있으며 막힐 때는 지금까지 학습한 내용을 다시 복습하면서 힌트를 찾아보세요."
   ]
  },
  {
   "cell_type": "code",
   "execution_count": 2,
   "metadata": {},
   "outputs": [],
   "source": [
    "# 입력\n",
    "# 3 3\n",
    "# .**\n",
    "# *..\n",
    "# .*.\n"
   ]
  },
  {
   "cell_type": "code",
   "execution_count": 3,
   "metadata": {},
   "outputs": [],
   "source": [
    "# 결과\n",
    "# 2**\n",
    "# *43\n",
    "# 2*1"
   ]
  },
  {
   "cell_type": "code",
   "execution_count": 19,
   "metadata": {},
   "outputs": [],
   "source": [
    "def check(x,y,N,M):\n",
    "    if x<0 or N<=x or y<0 or M<=y:\n",
    "        return False\n",
    "    return True"
   ]
  },
  {
   "cell_type": "code",
   "execution_count": 20,
   "metadata": {},
   "outputs": [],
   "source": [
    "xarr = [-1,-1,-1,1,1,1,0,0]\n",
    "yarr = [-1,1,0,-1,1,0,-1,1]"
   ]
  },
  {
   "cell_type": "code",
   "execution_count": 21,
   "metadata": {},
   "outputs": [
    {
     "name": "stdout",
     "output_type": "stream",
     "text": [
      "3 3\n",
      "3 3\n"
     ]
    }
   ],
   "source": [
    "N,M = map(int,input().split(\" \"))\n",
    "print(N, M)"
   ]
  },
  {
   "cell_type": "code",
   "execution_count": 26,
   "metadata": {},
   "outputs": [
    {
     "data": {
      "text/plain": [
       "[['.', '*', '*'], ['*', '.', '.'], ['.', '*', '.']]"
      ]
     },
     "execution_count": 26,
     "metadata": {},
     "output_type": "execute_result"
    }
   ],
   "source": [
    "matrix = [[\".\",\"*\",\"*\"],[\"*\",\".\",\".\"],[\".\",\"*\",\".\"]]\n",
    "# matrix = []\n",
    "# for i in range(0,N):\n",
    "#     matrix.append([char for char in input()])\n",
    "    \n",
    "matrix"
   ]
  },
  {
   "cell_type": "code",
   "execution_count": 27,
   "metadata": {},
   "outputs": [
    {
     "name": "stdout",
     "output_type": "stream",
     "text": [
      "1 1\n",
      "1 0\n",
      "0 1\n",
      "0 0\n",
      "0 2\n",
      "0 1\n",
      "2 0\n",
      "2 2\n",
      "2 1\n",
      "1 0\n",
      "1 2\n",
      "0 1\n",
      "0 2\n",
      "2 1\n",
      "2 2\n",
      "1 1\n",
      "1 1\n",
      "1 0\n",
      "2 1\n",
      "1 1\n",
      "1 2\n",
      "2 1\n"
     ]
    },
    {
     "data": {
      "text/plain": [
       "[[2, '*', '*'], ['*', 4, 3], [2, '*', 1]]"
      ]
     },
     "execution_count": 27,
     "metadata": {},
     "output_type": "execute_result"
    }
   ],
   "source": [
    "for x in range(0,N):\n",
    "    for y in range(0,M):\n",
    "        if matrix[x][y]=='*':\n",
    "            continue\n",
    "        count = 0\n",
    "        for i in range(0,8):\n",
    "            nx = xarr[i]+x\n",
    "            ny = yarr[i]+y\n",
    "            if check(nx,ny,N,M)!=True:\n",
    "                continue\n",
    "            print(nx,ny)\n",
    "            if matrix[nx][ny]=='*':\n",
    "                count += 1\n",
    "        matrix[x][y] = count\n",
    "            \n",
    "# matrix            \n",
    "            \n",
    "        \n",
    "        "
   ]
  },
  {
   "cell_type": "code",
   "execution_count": null,
   "metadata": {},
   "outputs": [],
   "source": [
    "# 2**\n",
    "# *43\n",
    "# 2*1"
   ]
  },
  {
   "cell_type": "code",
   "execution_count": null,
   "metadata": {},
   "outputs": [],
   "source": []
  }
 ],
 "metadata": {
  "kernelspec": {
   "display_name": "Python 3",
   "language": "python",
   "name": "python3"
  },
  "language_info": {
   "codemirror_mode": {
    "name": "ipython",
    "version": 3
   },
   "file_extension": ".py",
   "mimetype": "text/x-python",
   "name": "python",
   "nbconvert_exporter": "python",
   "pygments_lexer": "ipython3",
   "version": "3.8.5"
  }
 },
 "nbformat": 4,
 "nbformat_minor": 4
}
